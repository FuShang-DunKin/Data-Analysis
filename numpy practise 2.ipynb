{
 "cells": [
  {
   "cell_type": "markdown",
   "metadata": {},
   "source": [
    "![](./blessing.jpg)"
   ]
  },
  {
   "cell_type": "code",
   "execution_count": 1,
   "metadata": {},
   "outputs": [],
   "source": [
    "import numpy as np\n"
   ]
  },
  {
   "cell_type": "code",
   "execution_count": 2,
   "metadata": {
    "collapsed": true
   },
   "outputs": [
    {
     "data": {
      "text/plain": [
       "array([[114,  18,  88,   1,  18],\n",
       "       [101,  74,  24,  53, 143],\n",
       "       [ 55,  44,  21, 114, 125],\n",
       "       [ 27,  13,  24, 143,   7]])"
      ]
     },
     "metadata": {},
     "output_type": "display_data"
    },
    {
     "data": {
      "text/plain": [
       "array([[ 61,  34,  23,  66, 148],\n",
       "       [ 69, 118, 119, 111,  78]])"
      ]
     },
     "metadata": {},
     "output_type": "display_data"
    },
    {
     "data": {
      "text/plain": [
       "array([[ 26, 113, 149, 112, 133, 136,  92,   6],\n",
       "       [ 48,  39,  98,  13, 129,  54,   6, 108],\n",
       "       [141, 108,  59,  50,  61,  98, 136,  31],\n",
       "       [ 82,  94,  99,  19,  94, 128,  75,  73]])"
      ]
     },
     "metadata": {},
     "output_type": "display_data"
    }
   ],
   "source": [
    "nd1 = np.random.randint(0,150,size = (4,5))\n",
    "\n",
    "nd2 = np.random.randint(0,150,size = (2,5))\n",
    "\n",
    "nd3 = np.random.randint(0,150,size = (4,8))\n",
    "\n",
    "display(nd1, nd2, nd3)"
   ]
  },
  {
   "cell_type": "code",
   "execution_count": 5,
   "metadata": {
    "collapsed": true
   },
   "outputs": [
    {
     "data": {
      "text/plain": [
       "array([[114,  18,  88,   1,  18,  26, 113, 149, 112, 133, 136,  92,   6],\n",
       "       [101,  74,  24,  53, 143,  48,  39,  98,  13, 129,  54,   6, 108],\n",
       "       [ 55,  44,  21, 114, 125, 141, 108,  59,  50,  61,  98, 136,  31],\n",
       "       [ 27,  13,  24, 143,   7,  82,  94,  99,  19,  94, 128,  75,  73]])"
      ]
     },
     "execution_count": 5,
     "metadata": {},
     "output_type": "execute_result"
    }
   ],
   "source": [
    "np.concatenate([nd1, nd3], axis = 1)"
   ]
  },
  {
   "cell_type": "markdown",
   "metadata": {},
   "source": [
    "np.hstack 与 np.vstack\n",
    "用于水平级联和垂直级联"
   ]
  },
  {
   "cell_type": "code",
   "execution_count": 8,
   "metadata": {},
   "outputs": [
    {
     "data": {
      "text/plain": [
       "array([[114,  18,  88,   1,  18],\n",
       "       [101,  74,  24,  53, 143],\n",
       "       [ 55,  44,  21, 114, 125],\n",
       "       [ 27,  13,  24, 143,   7],\n",
       "       [ 61,  34,  23,  66, 148],\n",
       "       [ 69, 118, 119, 111,  78]])"
      ]
     },
     "execution_count": 8,
     "metadata": {},
     "output_type": "execute_result"
    }
   ],
   "source": [
    "np.hstack((nd1,nd3))\n",
    "np.vstack((nd1,nd2))"
   ]
  },
  {
   "cell_type": "markdown",
   "metadata": {},
   "source": [
    "与之类似的有\n",
    "np.split\n",
    "np.hsplit\n",
    "np.vsplit\n",
    "参数indices_or_sections表示切分为几份，或从何处开始切分"
   ]
  },
  {
   "cell_type": "markdown",
   "metadata": {},
   "source": [
    "np.precentile()求解ndarray百分比数，如中位数50、最大值100"
   ]
  },
  {
   "cell_type": "code",
   "execution_count": null,
   "metadata": {},
   "outputs": [],
   "source": []
  }
 ],
 "metadata": {
  "kernelspec": {
   "display_name": "Python 3",
   "language": "python",
   "name": "python3"
  },
  "language_info": {
   "codemirror_mode": {
    "name": "ipython",
    "version": 3
   },
   "file_extension": ".py",
   "mimetype": "text/x-python",
   "name": "python",
   "nbconvert_exporter": "python",
   "pygments_lexer": "ipython3",
   "version": "3.7.3"
  }
 },
 "nbformat": 4,
 "nbformat_minor": 2
}

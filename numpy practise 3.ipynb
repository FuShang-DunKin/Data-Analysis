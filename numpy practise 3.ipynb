{
 "cells": [
  {
   "cell_type": "markdown",
   "metadata": {},
   "source": [
    "![](http://b-ssl.duitang.com/uploads/item/201808/24/20180824050055_nihnc.gif)"
   ]
  },
  {
   "cell_type": "code",
   "execution_count": 1,
   "metadata": {},
   "outputs": [],
   "source": [
    "import numpy as np"
   ]
  },
  {
   "cell_type": "code",
   "execution_count": 3,
   "metadata": {
    "collapsed": true
   },
   "outputs": [
    {
     "data": {
      "text/plain": [
       "array([ 1.,  3.,  5.,  7.,  9., 11.,  2., nan])"
      ]
     },
     "execution_count": 3,
     "metadata": {},
     "output_type": "execute_result"
    }
   ],
   "source": [
    "# 空值\n",
    "a = np.array([1,3,5,7,9,11,2,np.NAN])\n",
    "a"
   ]
  },
  {
   "cell_type": "code",
   "execution_count": 4,
   "metadata": {
    "collapsed": true
   },
   "outputs": [
    {
     "data": {
      "text/plain": [
       "nan"
      ]
     },
     "execution_count": 4,
     "metadata": {},
     "output_type": "execute_result"
    }
   ],
   "source": [
    "a.sum()"
   ]
  },
  {
   "cell_type": "code",
   "execution_count": 6,
   "metadata": {
    "collapsed": true
   },
   "outputs": [
    {
     "data": {
      "text/plain": [
       "38.0"
      ]
     },
     "execution_count": 6,
     "metadata": {},
     "output_type": "execute_result"
    }
   ],
   "source": [
    "np.nansum(a)"
   ]
  },
  {
   "cell_type": "code",
   "execution_count": 7,
   "metadata": {
    "scrolled": true
   },
   "outputs": [
    {
     "data": {
      "text/plain": [
       "array([[nan, nan],\n",
       "       [nan, nan]])"
      ]
     },
     "execution_count": 7,
     "metadata": {},
     "output_type": "execute_result"
    }
   ],
   "source": [
    "b = a + 10\n",
    "np.corrcoef(a,b)"
   ]
  },
  {
   "cell_type": "markdown",
   "metadata": {},
   "source": [
    "'''\n",
    "np.corrcoef(a,b)的输出是相关系数矩阵\n",
    "即：\n",
    "   a   b \n",
    "a  1   1\n",
    "b  1   1\n",
    "'''"
   ]
  },
  {
   "cell_type": "code",
   "execution_count": 9,
   "metadata": {},
   "outputs": [
    {
     "data": {
      "text/plain": [
       "array([[1., 1.],\n",
       "       [1., 1.]])"
      ]
     },
     "execution_count": 9,
     "metadata": {},
     "output_type": "execute_result"
    }
   ],
   "source": [
    "a[-1] = 13\n",
    "b = a + 10\n",
    "np.corrcoef(a,b)"
   ]
  },
  {
   "cell_type": "code",
   "execution_count": 12,
   "metadata": {},
   "outputs": [
    {
     "data": {
      "text/plain": [
       "array([[1.        , 0.78445069],\n",
       "       [0.78445069, 1.        ]])"
      ]
     },
     "execution_count": 12,
     "metadata": {},
     "output_type": "execute_result"
    }
   ],
   "source": [
    "c = a + np.random.randint(1,13,size = a.shape)\n",
    "np.corrcoef(a,c)"
   ]
  },
  {
   "cell_type": "code",
   "execution_count": 13,
   "metadata": {
    "collapsed": true
   },
   "outputs": [
    {
     "data": {
      "text/plain": [
       "'\\nnumpy中统计学：\\n   平均值、中位数、方差、标准差、协方差、关联（相关性系数）\\n'"
      ]
     },
     "execution_count": 13,
     "metadata": {},
     "output_type": "execute_result"
    }
   ],
   "source": [
    "'''\n",
    "numpy中统计学：\n",
    "   平均值、中位数、方差、标准差、协方差、关联（相关性系数）\n",
    "'''"
   ]
  },
  {
   "cell_type": "code",
   "execution_count": 14,
   "metadata": {},
   "outputs": [
    {
     "data": {
      "text/plain": [
       "(array([ 8, 10,  8, 18, 13,  9, 10,  6,  8, 10], dtype=int64),\n",
       " array([ 13. , 111.5, 210. , 308.5, 407. , 505.5, 604. , 702.5, 801. ,\n",
       "        899.5, 998. ]))"
      ]
     },
     "execution_count": 14,
     "metadata": {},
     "output_type": "execute_result"
    }
   ],
   "source": [
    "# 直方图统计数据出现的频次\n",
    "nd = np.random.randint(0,999,size = 100)\n",
    "np.histogram(nd,bins = 10)"
   ]
  },
  {
   "cell_type": "markdown",
   "metadata": {},
   "source": [
    "文件操作"
   ]
  },
  {
   "cell_type": "code",
   "execution_count": 17,
   "metadata": {},
   "outputs": [
    {
     "data": {
      "text/plain": [
       "array([66.5, 64.5, 58.5, 67.9, 62.5, 61.6, 63.5, 62.2, 68.6, 64.7, 67.5,\n",
       "       60.9, 59.4, 62.1, 71.3, 59.7, 69.6, 64.6, 65.2, 57.5, 66.8, 63.9,\n",
       "       66.7, 70.1, 65.3, 60.2, 61. , 59.9, 68.6, 67.1, 66.6, 66.8, 69.9,\n",
       "       66.8, 66. , 63.4, 66.9, 62.3, 60.4, 62.7, 62.2, 65.4, 64. , 64.8,\n",
       "       71.3, 65.8, 65.8, 61.8, 67.1, 64. , 65.5, 68.3, 66.2, 64. , 67.9,\n",
       "       66.5, 65.7, 60.3, 63.1, 67.1, 58.6, 67. , 59.3, 62.8, 63.7, 62.4,\n",
       "       63.3, 61.8, 68.2, 66.4, 66.4, 67.7])"
      ]
     },
     "execution_count": 17,
     "metadata": {},
     "output_type": "execute_result"
    }
   ],
   "source": [
    "data = np.random.normal(loc = 65,scale = 3,size = 72).round(1)\n",
    "data"
   ]
  },
  {
   "cell_type": "code",
   "execution_count": 20,
   "metadata": {},
   "outputs": [],
   "source": [
    "np.save('./data.npy',data)\n",
    "np.savetxt('./data.txt',data)"
   ]
  },
  {
   "cell_type": "code",
   "execution_count": 19,
   "metadata": {},
   "outputs": [
    {
     "data": {
      "text/plain": [
       "array([66.5, 64.5, 58.5, 67.9, 62.5, 61.6, 63.5, 62.2, 68.6, 64.7, 67.5,\n",
       "       60.9, 59.4, 62.1, 71.3, 59.7, 69.6, 64.6, 65.2, 57.5, 66.8, 63.9,\n",
       "       66.7, 70.1, 65.3, 60.2, 61. , 59.9, 68.6, 67.1, 66.6, 66.8, 69.9,\n",
       "       66.8, 66. , 63.4, 66.9, 62.3, 60.4, 62.7, 62.2, 65.4, 64. , 64.8,\n",
       "       71.3, 65.8, 65.8, 61.8, 67.1, 64. , 65.5, 68.3, 66.2, 64. , 67.9,\n",
       "       66.5, 65.7, 60.3, 63.1, 67.1, 58.6, 67. , 59.3, 62.8, 63.7, 62.4,\n",
       "       63.3, 61.8, 68.2, 66.4, 66.4, 67.7])"
      ]
     },
     "execution_count": 19,
     "metadata": {},
     "output_type": "execute_result"
    }
   ],
   "source": [
    "np.load('./data.npy')"
   ]
  },
  {
   "cell_type": "code",
   "execution_count": 21,
   "metadata": {},
   "outputs": [
    {
     "data": {
      "text/plain": [
       "array([66.5, 64.5, 58.5, 67.9, 62.5, 61.6, 63.5, 62.2, 68.6, 64.7, 67.5,\n",
       "       60.9, 59.4, 62.1, 71.3, 59.7, 69.6, 64.6, 65.2, 57.5, 66.8, 63.9,\n",
       "       66.7, 70.1, 65.3, 60.2, 61. , 59.9, 68.6, 67.1, 66.6, 66.8, 69.9,\n",
       "       66.8, 66. , 63.4, 66.9, 62.3, 60.4, 62.7, 62.2, 65.4, 64. , 64.8,\n",
       "       71.3, 65.8, 65.8, 61.8, 67.1, 64. , 65.5, 68.3, 66.2, 64. , 67.9,\n",
       "       66.5, 65.7, 60.3, 63.1, 67.1, 58.6, 67. , 59.3, 62.8, 63.7, 62.4,\n",
       "       63.3, 61.8, 68.2, 66.4, 66.4, 67.7])"
      ]
     },
     "execution_count": 21,
     "metadata": {},
     "output_type": "execute_result"
    }
   ],
   "source": [
    "np.loadtxt('./data.txt')"
   ]
  },
  {
   "cell_type": "markdown",
   "metadata": {},
   "source": [
    "矩阵运算"
   ]
  },
  {
   "cell_type": "code",
   "execution_count": 22,
   "metadata": {},
   "outputs": [
    {
     "data": {
      "text/plain": [
       "array([2., 1., 5.])"
      ]
     },
     "execution_count": 22,
     "metadata": {},
     "output_type": "execute_result"
    }
   ],
   "source": [
    "X = np.array([[1,1,1],[2,-1,1],[3,1,-1]])\n",
    "Y = np.array([8,8,2])\n",
    "w = np.array(['x','y','z'])\n",
    "\n",
    "# 矩阵运算 Xw = Y 进行求解w的未知数\n",
    "# 即利用逆矩阵进行表示欲解方程\n",
    "X_inv = np.linalg.inv(X)\n",
    "np.dot(X_inv,Y)"
   ]
  },
  {
   "cell_type": "markdown",
   "metadata": {},
   "source": [
    "numpy 排序"
   ]
  },
  {
   "cell_type": "markdown",
   "metadata": {},
   "source": [
    "使用np.sort()是对对象中的数进行排序然后返回排序后的结果，并不改变对象本身\n",
    "使用.sort()排序，没有返回值，因为是直接对对象本身进行了修改"
   ]
  },
  {
   "cell_type": "markdown",
   "metadata": {},
   "source": [
    "部分排序\n",
    "np.partition()"
   ]
  },
  {
   "cell_type": "code",
   "execution_count": null,
   "metadata": {},
   "outputs": [],
   "source": []
  }
 ],
 "metadata": {
  "kernelspec": {
   "display_name": "Python 3",
   "language": "python",
   "name": "python3"
  },
  "language_info": {
   "codemirror_mode": {
    "name": "ipython",
    "version": 3
   },
   "file_extension": ".py",
   "mimetype": "text/x-python",
   "name": "python",
   "nbconvert_exporter": "python",
   "pygments_lexer": "ipython3",
   "version": "3.7.3"
  }
 },
 "nbformat": 4,
 "nbformat_minor": 2
}
